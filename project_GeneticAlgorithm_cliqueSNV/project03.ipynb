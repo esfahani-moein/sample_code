{
 "cells": [
  {
   "cell_type": "code",
   "execution_count": 1,
   "metadata": {},
   "outputs": [],
   "source": [
    "import random"
   ]
  },
  {
   "cell_type": "code",
   "execution_count": 2,
   "metadata": {},
   "outputs": [
    {
     "name": "stdout",
     "output_type": "stream",
     "text": [
      "Best Solution: [1, 1, 0, 0, 1]\n",
      "Satisfied Clauses: 3\n"
     ]
    }
   ],
   "source": [
    "\n",
    "# Define the problem instance\n",
    "NUM_VARIABLES = 5\n",
    "CLAUSES = [\n",
    "    [1, -2, 3],  # x1 OR NOT x2 OR x3\n",
    "    [-1, 2, -4], # NOT x1 OR x2 OR NOT x4\n",
    "    [3, -4, 5]   # x3 OR NOT x4 OR x5\n",
    "]\n",
    "\n",
    "# Fitness function\n",
    "def evaluate_fitness(individual, clauses):\n",
    "    satisfied = 0\n",
    "    for clause in clauses:\n",
    "        if any((literal > 0 and individual[abs(literal) - 1]) or\n",
    "               (literal < 0 and not individual[abs(literal) - 1]) for literal in clause):\n",
    "            satisfied += 1\n",
    "    return satisfied\n",
    "\n",
    "# Initialize population\n",
    "def initialize_population(size, num_variables):\n",
    "    return [[random.randint(0, 1) for _ in range(num_variables)] for _ in range(size)]\n",
    "\n",
    "# Selection (Tournament selection)\n",
    "def tournament_selection(population, fitnesses, k=3):\n",
    "    selected = random.sample(range(len(population)), k)\n",
    "    best = max(selected, key=lambda i: fitnesses[i])\n",
    "    return population[best]\n",
    "\n",
    "# Crossover (Single-point crossover)\n",
    "def crossover(parent1, parent2):\n",
    "    point = random.randint(1, len(parent1) - 1)\n",
    "    return parent1[:point] + parent2[point:]\n",
    "\n",
    "# Mutation (Bit flip)\n",
    "def mutate(individual, mutation_rate):\n",
    "    return [bit if random.random() > mutation_rate else 1 - bit for bit in individual]\n",
    "\n",
    "# Genetic algorithm\n",
    "def genetic_algorithm(clauses, num_variables, population_size=20, generations=100, mutation_rate=0.1):\n",
    "    population = initialize_population(population_size, num_variables)\n",
    "    for generation in range(generations):\n",
    "        # Evaluate fitness\n",
    "        fitnesses = [evaluate_fitness(ind, clauses) for ind in population]\n",
    "        \n",
    "        # Check if we found the optimal solution\n",
    "        if max(fitnesses) == len(clauses):\n",
    "            best_index = fitnesses.index(max(fitnesses))\n",
    "            return population[best_index], max(fitnesses)\n",
    "        \n",
    "        # Create a new population\n",
    "        new_population = []\n",
    "        for _ in range(population_size // 2):\n",
    "            # Select parents\n",
    "            parent1 = tournament_selection(population, fitnesses)\n",
    "            parent2 = tournament_selection(population, fitnesses)\n",
    "            # Crossover\n",
    "            offspring1 = crossover(parent1, parent2)\n",
    "            offspring2 = crossover(parent2, parent1)\n",
    "            # Mutate\n",
    "            offspring1 = mutate(offspring1, mutation_rate)\n",
    "            offspring2 = mutate(offspring2, mutation_rate)\n",
    "            new_population.extend([offspring1, offspring2])\n",
    "        \n",
    "        population = new_population\n",
    "    \n",
    "    # Return the best individual from the final generation\n",
    "    fitnesses = [evaluate_fitness(ind, clauses) for ind in population]\n",
    "    best_index = fitnesses.index(max(fitnesses))\n",
    "    return population[best_index], max(fitnesses)\n",
    "\n",
    "# Run the algorithm\n",
    "solution, satisfied_clauses = genetic_algorithm(CLAUSES, NUM_VARIABLES)\n",
    "print(\"Best Solution:\", solution)\n",
    "print(\"Satisfied Clauses:\", satisfied_clauses)\n"
   ]
  }
 ],
 "metadata": {
  "kernelspec": {
   "display_name": "base",
   "language": "python",
   "name": "python3"
  },
  "language_info": {
   "codemirror_mode": {
    "name": "ipython",
    "version": 3
   },
   "file_extension": ".py",
   "mimetype": "text/x-python",
   "name": "python",
   "nbconvert_exporter": "python",
   "pygments_lexer": "ipython3",
   "version": "3.11.10"
  }
 },
 "nbformat": 4,
 "nbformat_minor": 2
}
