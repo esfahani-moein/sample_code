{
 "cells": [
  {
   "cell_type": "code",
   "execution_count": 1,
   "metadata": {},
   "outputs": [],
   "source": [
    "from src.functionsGA import *\n",
    "from src.objective_funs import *"
   ]
  },
  {
   "cell_type": "code",
   "execution_count": 2,
   "metadata": {},
   "outputs": [],
   "source": [
    "def evaluate_clause(clause, solution):\n",
    "    for var_idx, is_negated in clause:\n",
    "        var_value = solution[var_idx]\n",
    "        if is_negated:\n",
    "            var_value = not var_value\n",
    "        if var_value:  # If any literal is True, the clause is satisfied\n",
    "            return True\n",
    "    return False\n",
    "\n",
    "def fitness_max3sat(solution, clauses):\n",
    "    \n",
    "    if not solution or not clauses:\n",
    "        return 0.0\n",
    "    \n",
    "    satisfied_clauses = sum(\n",
    "        1 for clause in clauses if evaluate_clause(clause, solution)\n",
    "    )\n",
    "    \n",
    "    return satisfied_clauses / len(clauses)\n",
    "\n",
    "def example_usage():\n",
    "    # Example : (x1 ∨ ¬x2 ∨ x3) ∧ (¬x1 ∨ x2 ∨ x3)\n",
    "    # Variables are represented by their indices (0, 1, 2 for x1, x2, x3)\n",
    "    example_clauses = [\n",
    "        [(0, False), (1, True), (2, False)],  # (x1 ∨ ¬x2 ∨ x3)\n",
    "        [(0, True), (1, False), (2, False)]   # (¬x1 ∨ x2 ∨ x3)\n",
    "    ]\n",
    "    \n",
    "    example_solution = [True, False, True]\n",
    "    \n",
    "    fitness = fitness_max3sat(example_solution, example_clauses)\n",
    "    return fitness"
   ]
  }
 ],
 "metadata": {
  "kernelspec": {
   "display_name": "base",
   "language": "python",
   "name": "python3"
  },
  "language_info": {
   "codemirror_mode": {
    "name": "ipython",
    "version": 3
   },
   "file_extension": ".py",
   "mimetype": "text/x-python",
   "name": "python",
   "nbconvert_exporter": "python",
   "pygments_lexer": "ipython3",
   "version": "3.11.10"
  }
 },
 "nbformat": 4,
 "nbformat_minor": 2
}
